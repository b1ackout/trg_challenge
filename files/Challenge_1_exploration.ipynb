{
 "cells": [
  {
   "cell_type": "markdown",
   "metadata": {},
   "source": [
    "# CHallenge 1 exploration"
   ]
  },
  {
   "cell_type": "code",
   "execution_count": 1,
   "metadata": {},
   "outputs": [
    {
     "name": "stderr",
     "output_type": "stream",
     "text": [
      "WARNING: An illegal reflective access operation has occurred\n",
      "WARNING: Illegal reflective access by org.apache.spark.unsafe.Platform (file:/usr/local/spark-3.1.2-bin-hadoop3.2/jars/spark-unsafe_2.12-3.1.2.jar) to constructor java.nio.DirectByteBuffer(long,int)\n",
      "WARNING: Please consider reporting this to the maintainers of org.apache.spark.unsafe.Platform\n",
      "WARNING: Use --illegal-access=warn to enable warnings of further illegal reflective access operations\n",
      "WARNING: All illegal access operations will be denied in a future release\n"
     ]
    },
    {
     "name": "stdout",
     "output_type": "stream",
     "text": [
      ":: loading settings :: url = jar:file:/usr/local/spark-3.1.2-bin-hadoop3.2/jars/ivy-2.4.0.jar!/org/apache/ivy/core/settings/ivysettings.xml\n"
     ]
    },
    {
     "name": "stderr",
     "output_type": "stream",
     "text": [
      "Ivy Default Cache set to: /home/jovyan/.ivy2/cache\n",
      "The jars for the packages stored in: /home/jovyan/.ivy2/jars\n",
      "org.postgresql#postgresql added as a dependency\n",
      ":: resolving dependencies :: org.apache.spark#spark-submit-parent-bf5f2ade-7991-496f-9360-88ec75115dfd;1.0\n",
      "\tconfs: [default]\n",
      "\tfound org.postgresql#postgresql;42.2.18 in central\n",
      "\tfound org.checkerframework#checker-qual;3.5.0 in central\n",
      ":: resolution report :: resolve 280ms :: artifacts dl 7ms\n",
      "\t:: modules in use:\n",
      "\torg.checkerframework#checker-qual;3.5.0 from central in [default]\n",
      "\torg.postgresql#postgresql;42.2.18 from central in [default]\n",
      "\t---------------------------------------------------------------------\n",
      "\t|                  |            modules            ||   artifacts   |\n",
      "\t|       conf       | number| search|dwnlded|evicted|| number|dwnlded|\n",
      "\t---------------------------------------------------------------------\n",
      "\t|      default     |   2   |   0   |   0   |   0   ||   2   |   0   |\n",
      "\t---------------------------------------------------------------------\n",
      ":: retrieving :: org.apache.spark#spark-submit-parent-bf5f2ade-7991-496f-9360-88ec75115dfd\n",
      "\tconfs: [default]\n",
      "\t0 artifacts copied, 2 already retrieved (0kB/10ms)\n",
      "21/09/24 20:02:19 WARN NativeCodeLoader: Unable to load native-hadoop library for your platform... using builtin-java classes where applicable\n",
      "Using Spark's default log4j profile: org/apache/spark/log4j-defaults.properties\n",
      "Setting default log level to \"WARN\".\n",
      "To adjust logging level use sc.setLogLevel(newLevel). For SparkR, use setLogLevel(newLevel).\n"
     ]
    },
    {
     "data": {
      "text/html": [
       "<style>.container { width:100% !important; }</style>"
      ],
      "text/plain": [
       "<IPython.core.display.HTML object>"
      ]
     },
     "metadata": {},
     "output_type": "display_data"
    }
   ],
   "source": [
    "import pyspark\n",
    "from IPython.core.display import display, HTML\n",
    "\n",
    "conf = pyspark.SparkConf().setAppName('Jupyter').setMaster('spark://spark:7077')\\\n",
    "    .set('spark.jars.packages', 'org.postgresql:postgresql:42.2.18')\n",
    "sc = pyspark.SparkContext(conf=conf)\n",
    "spark = pyspark.sql.SparkSession(sc)\n",
    "\n",
    "spark.conf.set(\"spark.sql.repl.eagerEval.enabled\", True)\n",
    "spark.conf.set(\"spark.sql.repl.eagerEval.truncate\", '75')\n",
    "\n",
    "\n",
    "display(HTML(\"<style>.container { width:100% !important; }</style>\"))"
   ]
  },
  {
   "cell_type": "code",
   "execution_count": 3,
   "metadata": {},
   "outputs": [
    {
     "name": "stderr",
     "output_type": "stream",
     "text": [
      "                                                                                \r"
     ]
    },
    {
     "data": {
      "text/html": [
       "<table border='1'>\n",
       "<tr><th>city</th><th>currently_apparenttemperature</th><th>currently_humidity</th><th>currently_precipintensity</th><th>currently_precipprobability</th><th>currently_preciptype</th><th>currently_temperature</th><th>currently_visibility</th><th>currently_windspeed</th><th>date_time</th></tr>\n",
       "<tr><td>Vienna</td><td>10.11</td><td>0.64</td><td>0.0</td><td>0.0</td><td>null</td><td>10.11</td><td>12.63</td><td>4.4</td><td>2019-03-28 08:05:10</td></tr>\n",
       "<tr><td>Vienna</td><td>2.79</td><td>0.77</td><td>0.0178</td><td>0.05</td><td>rain</td><td>6.0</td><td>6.55</td><td>4.56</td><td>2019-03-27 05:05:11</td></tr>\n",
       "<tr><td>Brussels</td><td>0.26</td><td>1.0</td><td>0.0</td><td>0.0</td><td>null</td><td>2.44</td><td>7.07</td><td>2.13</td><td>2019-03-27 05:05:05</td></tr>\n",
       "<tr><td>Vienna</td><td>0.67</td><td>0.67</td><td>0.0</td><td>0.0</td><td>null</td><td>5.03</td><td>9.98</td><td>6.68</td><td>2019-03-26 05:05:10</td></tr>\n",
       "<tr><td>Gothenburg</td><td>-2.12</td><td>0.88</td><td>0.0</td><td>0.0</td><td>null</td><td>0.21</td><td>10.12</td><td>1.92</td><td>2019-03-26 05:05:05</td></tr>\n",
       "<tr><td>Berlin</td><td>-3.64</td><td>0.97</td><td>0.0</td><td>0.0</td><td>null</td><td>0.52</td><td>10.12</td><td>4.0</td><td>2019-03-26 05:05:04</td></tr>\n",
       "<tr><td>Berlin</td><td>5.03</td><td>1.0</td><td>0.0</td><td>0.0</td><td>null</td><td>5.03</td><td>0.48</td><td>1.32</td><td>2019-03-23 06:05:04</td></tr>\n",
       "<tr><td>Lyon</td><td>15.35</td><td>0.44</td><td>0.0</td><td>0.0</td><td>null</td><td>15.35</td><td>10.12</td><td>0.31</td><td>2019-03-22 11:05:07</td></tr>\n",
       "<tr><td>Gothenburg</td><td>-5.59</td><td>0.87</td><td>0.0</td><td>0.0</td><td>null</td><td>-0.46</td><td>10.12</td><td>5.18</td><td>2019-03-19 21:05:07</td></tr>\n",
       "<tr><td>Brussels</td><td>4.26</td><td>0.65</td><td>0.193</td><td>0.14</td><td>rain</td><td>7.19</td><td>14.68</td><td>4.6</td><td>2019-03-17 16:05:04</td></tr>\n",
       "<tr><td>Copenhagen</td><td>3.09</td><td>0.92</td><td>0.8839</td><td>0.74</td><td>rain</td><td>7.39</td><td>11.84</td><td>8.7</td><td>2019-03-17 01:05:05</td></tr>\n",
       "<tr><td>Brussels</td><td>11.21</td><td>0.63</td><td>0.0279</td><td>0.07</td><td>rain</td><td>11.21</td><td>10.15</td><td>10.02</td><td>2019-03-17 00:05:04</td></tr>\n",
       "<tr><td>Brussels</td><td>10.33</td><td>0.71</td><td>0.0203</td><td>0.06</td><td>rain</td><td>10.33</td><td>16.09</td><td>9.58</td><td>2019-03-16 22:05:04</td></tr>\n",
       "<tr><td>Gothenburg</td><td>2.62</td><td>0.93</td><td>0.0889</td><td>0.46</td><td>rain</td><td>2.62</td><td>3.38</td><td>0.62</td><td>2019-03-15 22:05:05</td></tr>\n",
       "<tr><td>Gothenburg</td><td>-4.58</td><td>0.92</td><td>1.4351</td><td>0.63</td><td>rain</td><td>1.73</td><td>4.51</td><td>9.47</td><td>2019-03-12 23:05:06</td></tr>\n",
       "<tr><td>Zaragoza</td><td>17.28</td><td>0.4</td><td>0.0</td><td>0.0</td><td>null</td><td>17.28</td><td>10.15</td><td>3.72</td><td>2019-03-12 17:05:10</td></tr>\n",
       "<tr><td>Copenhagen</td><td>-2.26</td><td>0.91</td><td>0.1829</td><td>0.22</td><td>rain</td><td>4.14</td><td>13.23</td><td>12.91</td><td>2019-03-10 04:05:05</td></tr>\n",
       "<tr><td>Gothenburg</td><td>-0.19</td><td>0.9</td><td>0.2286</td><td>0.44</td><td>rain</td><td>4.82</td><td>3.19</td><td>8.44</td><td>2019-03-08 06:05:06</td></tr>\n",
       "<tr><td>Berlin</td><td>34.34</td><td>0.2</td><td>0.0</td><td>0.0</td><td>null</td><td>34.34</td><td>10.12</td><td>6.23</td><td>2019-06-03 13:05:04</td></tr>\n",
       "<tr><td>Gothenburg</td><td>15.09</td><td>0.79</td><td>0.4039</td><td>0.34</td><td>rain</td><td>15.09</td><td>10.46</td><td>6.52</td><td>2019-06-03 05:05:05</td></tr>\n",
       "</table>\n",
       "only showing top 20 rows\n"
      ],
      "text/plain": [
       "+----------+-----------------------------+------------------+-------------------------+---------------------------+--------------------+---------------------+--------------------+-------------------+-------------------+\n",
       "|      city|currently_apparenttemperature|currently_humidity|currently_precipintensity|currently_precipprobability|currently_preciptype|currently_temperature|currently_visibility|currently_windspeed|          date_time|\n",
       "+----------+-----------------------------+------------------+-------------------------+---------------------------+--------------------+---------------------+--------------------+-------------------+-------------------+\n",
       "|    Vienna|                        10.11|              0.64|                      0.0|                        0.0|                null|                10.11|               12.63|                4.4|2019-03-28 08:05:10|\n",
       "|    Vienna|                         2.79|              0.77|                   0.0178|                       0.05|                rain|                  6.0|                6.55|               4.56|2019-03-27 05:05:11|\n",
       "|  Brussels|                         0.26|               1.0|                      0.0|                        0.0|                null|                 2.44|                7.07|               2.13|2019-03-27 05:05:05|\n",
       "|    Vienna|                         0.67|              0.67|                      0.0|                        0.0|                null|                 5.03|                9.98|               6.68|2019-03-26 05:05:10|\n",
       "|Gothenburg|                        -2.12|              0.88|                      0.0|                        0.0|                null|                 0.21|               10.12|               1.92|2019-03-26 05:05:05|\n",
       "|    Berlin|                        -3.64|              0.97|                      0.0|                        0.0|                null|                 0.52|               10.12|                4.0|2019-03-26 05:05:04|\n",
       "|    Berlin|                         5.03|               1.0|                      0.0|                        0.0|                null|                 5.03|                0.48|               1.32|2019-03-23 06:05:04|\n",
       "|      Lyon|                        15.35|              0.44|                      0.0|                        0.0|                null|                15.35|               10.12|               0.31|2019-03-22 11:05:07|\n",
       "|Gothenburg|                        -5.59|              0.87|                      0.0|                        0.0|                null|                -0.46|               10.12|               5.18|2019-03-19 21:05:07|\n",
       "|  Brussels|                         4.26|              0.65|                    0.193|                       0.14|                rain|                 7.19|               14.68|                4.6|2019-03-17 16:05:04|\n",
       "|Copenhagen|                         3.09|              0.92|                   0.8839|                       0.74|                rain|                 7.39|               11.84|                8.7|2019-03-17 01:05:05|\n",
       "|  Brussels|                        11.21|              0.63|                   0.0279|                       0.07|                rain|                11.21|               10.15|              10.02|2019-03-17 00:05:04|\n",
       "|  Brussels|                        10.33|              0.71|                   0.0203|                       0.06|                rain|                10.33|               16.09|               9.58|2019-03-16 22:05:04|\n",
       "|Gothenburg|                         2.62|              0.93|                   0.0889|                       0.46|                rain|                 2.62|                3.38|               0.62|2019-03-15 22:05:05|\n",
       "|Gothenburg|                        -4.58|              0.92|                   1.4351|                       0.63|                rain|                 1.73|                4.51|               9.47|2019-03-12 23:05:06|\n",
       "|  Zaragoza|                        17.28|               0.4|                      0.0|                        0.0|                null|                17.28|               10.15|               3.72|2019-03-12 17:05:10|\n",
       "|Copenhagen|                        -2.26|              0.91|                   0.1829|                       0.22|                rain|                 4.14|               13.23|              12.91|2019-03-10 04:05:05|\n",
       "|Gothenburg|                        -0.19|               0.9|                   0.2286|                       0.44|                rain|                 4.82|                3.19|               8.44|2019-03-08 06:05:06|\n",
       "|    Berlin|                        34.34|               0.2|                      0.0|                        0.0|                null|                34.34|               10.12|               6.23|2019-06-03 13:05:04|\n",
       "|Gothenburg|                        15.09|              0.79|                   0.4039|                       0.34|                rain|                15.09|               10.46|               6.52|2019-06-03 05:05:05|\n",
       "+----------+-----------------------------+------------------+-------------------------+---------------------------+--------------------+---------------------+--------------------+-------------------+-------------------+\n",
       "only showing top 20 rows"
      ]
     },
     "execution_count": 3,
     "metadata": {},
     "output_type": "execute_result"
    }
   ],
   "source": [
    "spark.read\\\n",
    "    .format(\"jdbc\") \\\n",
    "    .option(\"url\", \"jdbc:postgresql://postgres/postgres\") \\\n",
    "    .option(\"dbtable\", \"public.weather\") \\\n",
    "    .option(\"driver\", \"org.postgresql.Driver\") \\\n",
    "    .option(\"user\", \"postgres\") \\\n",
    "    .option(\"password\", \"postgres\") \\\n",
    "    .load()"
   ]
  },
  {
   "cell_type": "code",
   "execution_count": null,
   "metadata": {},
   "outputs": [],
   "source": [
    "spark.read\\\n",
    "    .format(\"jdbc\") \\\n",
    "    .option(\"url\", \"jdbc:postgresql://postgres/postgres\") \\\n",
    "    .option(\"dbtable\", \"public.weather\") \\\n",
    "    .option(\"driver\", \"org.postgresql.Driver\") \\\n",
    "    .option(\"user\", \"postgres\") \\\n",
    "    .option(\"password\", \"postgres\") \\\n",
    "    .load()"
   ]
  },
  {
   "cell_type": "code",
   "execution_count": 47,
   "metadata": {},
   "outputs": [],
   "source": []
  },
  {
   "cell_type": "markdown",
   "metadata": {},
   "source": [
    "### Analyze weather data"
   ]
  },
  {
   "cell_type": "code",
   "execution_count": 102,
   "metadata": {},
   "outputs": [
    {
     "data": {
      "text/plain": [
       "17154"
      ]
     },
     "execution_count": 102,
     "metadata": {},
     "output_type": "execute_result"
    }
   ],
   "source": [
    "def remove_struct_name(df):\n",
    "    columns = df.columns\n",
    "    columns.remove('_corrupt_record')\n",
    "    clean_columns = [f'`{column}` as {column.split(\".\")[1]}' for column in columns]\n",
    "    return df.selectExpr(*clean_columns)\n",
    "\n",
    "weather_df = spark.read.json('file:///data/weather.json').dropDuplicates()\n",
    "weather_df = remove_struct_name(weather_df)\n",
    "\n",
    "weather_df.count()"
   ]
  },
  {
   "cell_type": "code",
   "execution_count": 3,
   "metadata": {},
   "outputs": [],
   "source": [
    "import pyspark.sql.functions as f\n",
    "\n",
    "weather_df\\\n",
    ".withColumn('currently_visibility', f.col('currently_visibility').cast('double'))\\\n",
    ".withColumn('currently_precipprobability', f.col('currently_precipprobability').cast('double'))\\\n",
    ".withColumn(\"valid_data\", f.expr(\"\"\"CASE WHEN \n",
    "city == \"test\" \n",
    "OR TO_TIMESTAMP(date_time, \"yyyy-MM-dd HH:mm:ss\") IS  NULL\n",
    "OR currently_visibility NOT BETWEEN 0 AND 30\n",
    "OR currently_windspeed NOT BETWEEN 0 AND 100\n",
    "OR currently_humidity NOT BETWEEN 0 AND 1\n",
    "OR currently_precipprobability NOT BETWEEN 0 AND 1\n",
    "OR currently_precipintensity NOT BETWEEN 0 AND 10\n",
    "OR currently_temperature NOT BETWEEN -50 AND 70\n",
    "OR currently_apparenttemperature NOT BETWEEN -50 AND 70\n",
    "OR currently_preciptype NOT IN (null, \"sleet\", \"rain\", \"snow\")\n",
    "THEN false ELSE TRUE END\"\"\"))\\\n",
    "    .where('valid_data = true')\\\n",
    "    .withColumn('date_time', f.to_timestamp(f.col('date_time'), \"yyyy-MM-dd HH:mm:ss\"))\\\n",
    "    .registerTempTable('a')\n"
   ]
  },
  {
   "cell_type": "code",
   "execution_count": 8,
   "metadata": {},
   "outputs": [
    {
     "name": "stderr",
     "output_type": "stream",
     "text": [
      "                                                                                \r"
     ]
    }
   ],
   "source": [
    "spark.sql('select * from a').drop('valid_data').write.mode('append') \\\n",
    "    .format(\"jdbc\") \\\n",
    "    .option(\"url\", \"jdbc:postgresql://postgres/postgres\") \\\n",
    "    .option(\"dbtable\", \"public.dude\") \\\n",
    "    .option(\"driver\", \"org.postgresql.Driver\") \\\n",
    "    .option(\"user\", \"postgres\") \\\n",
    "    .option(\"password\", \"postgres\") \\\n",
    "    .save()"
   ]
  },
  {
   "cell_type": "code",
   "execution_count": 12,
   "metadata": {},
   "outputs": [
    {
     "data": {
      "text/html": [
       "<table border='1'>\n",
       "<tr><th>city</th><th>currently_apparenttemperature</th><th>currently_humidity</th><th>currently_precipintensity</th><th>currently_precipprobability</th><th>currently_preciptype</th><th>currently_temperature</th><th>currently_visibility</th><th>currently_windspeed</th><th>date_time</th></tr>\n",
       "<tr><td>Gothenburg</td><td>10.44</td><td>0.66</td><td>0.0</td><td>0.0</td><td>null</td><td>10.44</td><td>10.12</td><td>8.0</td><td>2019-03-29 16:05:05</td></tr>\n",
       "<tr><td>Brussels</td><td>16.08</td><td>0.53</td><td>0.0</td><td>0.0</td><td>null</td><td>16.08</td><td>10.12</td><td>2.46</td><td>2019-03-29 14:05:05</td></tr>\n",
       "<tr><td>Gothenburg</td><td>4.01</td><td>0.79</td><td>0.0</td><td>0.0</td><td>null</td><td>7.81</td><td>9.64</td><td>7.34</td><td>2019-03-29 10:05:05</td></tr>\n",
       "<tr><td>Lyon</td><td>13.62</td><td>0.39</td><td>0.0</td><td>0.0</td><td>null</td><td>13.62</td><td>10.44</td><td>6.3</td><td>2019-03-27 19:05:06</td></tr>\n",
       "<tr><td>Gothenburg</td><td>0.63</td><td>0.97</td><td>0.0051</td><td>0.03</td><td>rain</td><td>4.71</td><td>2.57</td><td>5.77</td><td>2019-03-27 05:05:06</td></tr>\n",
       "<tr><td>Vienna</td><td>13.64</td><td>0.56</td><td>0.0</td><td>0.0</td><td>null</td><td>13.64</td><td>10.07</td><td>2.84</td><td>2019-03-24 21:05:11</td></tr>\n",
       "<tr><td>Lyon</td><td>11.19</td><td>0.42</td><td>0.0</td><td>0.0</td><td>null</td><td>11.19</td><td>10.14</td><td>4.9</td><td>2019-03-20 11:05:06</td></tr>\n",
       "<tr><td>Zaragoza</td><td>5.68</td><td>0.54</td><td>0.0</td><td>0.0</td><td>null</td><td>9.46</td><td>10.14</td><td>9.17</td><td>2019-03-19 20:05:10</td></tr>\n",
       "<tr><td>Zaragoza</td><td>4.08</td><td>0.72</td><td>0.0914</td><td>0.09</td><td>rain</td><td>8.17</td><td>9.58</td><td>8.79</td><td>2019-03-19 03:05:10</td></tr>\n",
       "<tr><td>Vienna</td><td>3.47</td><td>0.56</td><td>0.0</td><td>0.0</td><td>null</td><td>6.96</td><td>10.12</td><td>5.75</td><td>2019-03-18 22:05:10</td></tr>\n",
       "<tr><td>Vienna</td><td>4.92</td><td>0.52</td><td>0.0</td><td>0.0</td><td>null</td><td>8.13</td><td>16.09</td><td>5.86</td><td>2019-03-18 17:05:09</td></tr>\n",
       "<tr><td>Copenhagen</td><td>0.64</td><td>0.65</td><td>0.0152</td><td>0.08</td><td>rain</td><td>6.79</td><td>6.5</td><td>16.78</td><td>2019-03-18 09:05:05</td></tr>\n",
       "<tr><td>Lyon</td><td>14.35</td><td>0.67</td><td>0.094</td><td>0.1</td><td>rain</td><td>14.35</td><td>7.11</td><td>1.73</td><td>2019-03-15 16:05:06</td></tr>\n",
       "<tr><td>Vienna</td><td>4.29</td><td>0.56</td><td>0.0</td><td>0.0</td><td>null</td><td>7.62</td><td>16.09</td><td>5.8</td><td>2019-03-13 18:05:10</td></tr>\n",
       "<tr><td>Berlin</td><td>34.34</td><td>0.2</td><td>0.0</td><td>0.0</td><td>null</td><td>34.34</td><td>10.12</td><td>6.23</td><td>2019-06-03 13:05:04</td></tr>\n",
       "<tr><td>Vienna</td><td>-0.37</td><td>0.67</td><td>0.0533</td><td>0.06</td><td>rain</td><td>4.75</td><td>16.09</td><td>8.69</td><td>2019-03-12 05:05:09</td></tr>\n",
       "<tr><td>Brussels</td><td>-0.62</td><td>0.72</td><td>0.0533</td><td>0.15</td><td>rain</td><td>4.44</td><td>6.07</td><td>8.2</td><td>2019-03-11 09:05:04</td></tr>\n",
       "<tr><td>Brussels</td><td>-2.21</td><td>0.54</td><td>0.0356</td><td>0.14</td><td>rain</td><td>4.88</td><td>14.56</td><td>17.96</td><td>2019-03-11 03:05:04</td></tr>\n",
       "<tr><td>Gothenburg</td><td>15.09</td><td>0.79</td><td>0.4039</td><td>0.34</td><td>rain</td><td>15.09</td><td>10.46</td><td>6.52</td><td>2019-06-03 05:05:05</td></tr>\n",
       "<tr><td>Copenhagen</td><td>20.81</td><td>0.57</td><td>0.0381</td><td>0.02</td><td>rain</td><td>20.81</td><td>10.12</td><td>8.21</td><td>2019-06-01 15:05:05</td></tr>\n",
       "</table>\n",
       "only showing top 20 rows\n"
      ],
      "text/plain": [
       "+----------+-----------------------------+------------------+-------------------------+---------------------------+--------------------+---------------------+--------------------+-------------------+-------------------+\n",
       "|      city|currently_apparenttemperature|currently_humidity|currently_precipintensity|currently_precipprobability|currently_preciptype|currently_temperature|currently_visibility|currently_windspeed|          date_time|\n",
       "+----------+-----------------------------+------------------+-------------------------+---------------------------+--------------------+---------------------+--------------------+-------------------+-------------------+\n",
       "|Gothenburg|                        10.44|              0.66|                      0.0|                        0.0|                null|                10.44|               10.12|                8.0|2019-03-29 16:05:05|\n",
       "|  Brussels|                        16.08|              0.53|                      0.0|                        0.0|                null|                16.08|               10.12|               2.46|2019-03-29 14:05:05|\n",
       "|Gothenburg|                         4.01|              0.79|                      0.0|                        0.0|                null|                 7.81|                9.64|               7.34|2019-03-29 10:05:05|\n",
       "|      Lyon|                        13.62|              0.39|                      0.0|                        0.0|                null|                13.62|               10.44|                6.3|2019-03-27 19:05:06|\n",
       "|Gothenburg|                         0.63|              0.97|                   0.0051|                       0.03|                rain|                 4.71|                2.57|               5.77|2019-03-27 05:05:06|\n",
       "|    Vienna|                        13.64|              0.56|                      0.0|                        0.0|                null|                13.64|               10.07|               2.84|2019-03-24 21:05:11|\n",
       "|      Lyon|                        11.19|              0.42|                      0.0|                        0.0|                null|                11.19|               10.14|                4.9|2019-03-20 11:05:06|\n",
       "|  Zaragoza|                         5.68|              0.54|                      0.0|                        0.0|                null|                 9.46|               10.14|               9.17|2019-03-19 20:05:10|\n",
       "|  Zaragoza|                         4.08|              0.72|                   0.0914|                       0.09|                rain|                 8.17|                9.58|               8.79|2019-03-19 03:05:10|\n",
       "|    Vienna|                         3.47|              0.56|                      0.0|                        0.0|                null|                 6.96|               10.12|               5.75|2019-03-18 22:05:10|\n",
       "|    Vienna|                         4.92|              0.52|                      0.0|                        0.0|                null|                 8.13|               16.09|               5.86|2019-03-18 17:05:09|\n",
       "|Copenhagen|                         0.64|              0.65|                   0.0152|                       0.08|                rain|                 6.79|                 6.5|              16.78|2019-03-18 09:05:05|\n",
       "|      Lyon|                        14.35|              0.67|                    0.094|                        0.1|                rain|                14.35|                7.11|               1.73|2019-03-15 16:05:06|\n",
       "|    Vienna|                         4.29|              0.56|                      0.0|                        0.0|                null|                 7.62|               16.09|                5.8|2019-03-13 18:05:10|\n",
       "|    Berlin|                        34.34|               0.2|                      0.0|                        0.0|                null|                34.34|               10.12|               6.23|2019-06-03 13:05:04|\n",
       "|    Vienna|                        -0.37|              0.67|                   0.0533|                       0.06|                rain|                 4.75|               16.09|               8.69|2019-03-12 05:05:09|\n",
       "|  Brussels|                        -0.62|              0.72|                   0.0533|                       0.15|                rain|                 4.44|                6.07|                8.2|2019-03-11 09:05:04|\n",
       "|  Brussels|                        -2.21|              0.54|                   0.0356|                       0.14|                rain|                 4.88|               14.56|              17.96|2019-03-11 03:05:04|\n",
       "|Gothenburg|                        15.09|              0.79|                   0.4039|                       0.34|                rain|                15.09|               10.46|               6.52|2019-06-03 05:05:05|\n",
       "|Copenhagen|                        20.81|              0.57|                   0.0381|                       0.02|                rain|                20.81|               10.12|               8.21|2019-06-01 15:05:05|\n",
       "+----------+-----------------------------+------------------+-------------------------+---------------------------+--------------------+---------------------+--------------------+-------------------+-------------------+\n",
       "only showing top 20 rows"
      ]
     },
     "execution_count": 12,
     "metadata": {},
     "output_type": "execute_result"
    }
   ],
   "source": [
    "spark.read\\\n",
    "    .format(\"jdbc\") \\\n",
    "    .option(\"url\", \"jdbc:postgresql://postgres/postgres\") \\\n",
    "    .option(\"dbtable\", \"public.dude\") \\\n",
    "    .option(\"driver\", \"org.postgresql.Driver\") \\\n",
    "    .option(\"user\", \"postgres\") \\\n",
    "    .option(\"password\", \"postgres\") \\\n",
    "    .load()"
   ]
  },
  {
   "cell_type": "code",
   "execution_count": 10,
   "metadata": {},
   "outputs": [
    {
     "name": "stdout",
     "output_type": "stream",
     "text": [
      "root\n",
      " |-- city: string (nullable = true)\n",
      " |-- currently_apparenttemperature: double (nullable = true)\n",
      " |-- currently_humidity: double (nullable = true)\n",
      " |-- currently_precipintensity: double (nullable = true)\n",
      " |-- currently_precipprobability: double (nullable = true)\n",
      " |-- currently_preciptype: string (nullable = true)\n",
      " |-- currently_temperature: double (nullable = true)\n",
      " |-- currently_visibility: double (nullable = true)\n",
      " |-- currently_windspeed: double (nullable = true)\n",
      " |-- date_time: timestamp (nullable = true)\n",
      " |-- valid_data: boolean (nullable = false)\n",
      "\n"
     ]
    }
   ],
   "source": [
    "# 17154\n",
    "spark.sql('select* from a').printSchema()"
   ]
  },
  {
   "cell_type": "code",
   "execution_count": 4,
   "metadata": {},
   "outputs": [
    {
     "name": "stderr",
     "output_type": "stream",
     "text": [
      "                                                                                \r"
     ]
    },
    {
     "data": {
      "text/html": [
       "<table border='1'>\n",
       "<tr><th>currently_preciptype</th></tr>\n",
       "<tr><td>null</td></tr>\n",
       "<tr><td>rain</td></tr>\n",
       "<tr><td>sleet</td></tr>\n",
       "<tr><td>snow</td></tr>\n",
       "</table>\n"
      ],
      "text/plain": [
       "+--------------------+\n",
       "|currently_preciptype|\n",
       "+--------------------+\n",
       "|                null|\n",
       "|                rain|\n",
       "|               sleet|\n",
       "|                snow|\n",
       "+--------------------+"
      ]
     },
     "execution_count": 4,
     "metadata": {},
     "output_type": "execute_result"
    }
   ],
   "source": [
    "spark.sql('select distinct currently_preciptype from a')"
   ]
  },
  {
   "cell_type": "code",
   "execution_count": 99,
   "metadata": {},
   "outputs": [
    {
     "data": {
      "text/html": [
       "<table border='1'>\n",
       "<tr><th>min(currently_apparenttemperature)</th><th>max(currently_apparenttemperature)</th><th>min(currently_humidity)</th><th>max(currently_humidity)</th><th>min(currently_precipintensity)</th><th>max(currently_precipintensity)</th><th>min(currently_precipprobability)</th><th>max(currently_precipprobability)</th><th>min(currently_preciptype)</th><th>max(currently_preciptype)</th><th>min(currently_temperature)</th><th>max(currently_temperature)</th><th>min(currently_visibility)</th><th>max(currently_visibility)</th><th>min(currently_windspeed)</th><th>max(currently_windspeed)</th></tr>\n",
       "<tr><td>-22.31</td><td>34.34</td><td>0.11</td><td>1.0</td><td>0.0</td><td>6.2916</td><td>0.0</td><td>0.89</td><td>rain</td><td>snow</td><td>-5.54</td><td>34.34</td><td>0.0</td><td>16.09</td><td>0.01</td><td>33.16</td></tr>\n",
       "</table>\n"
      ],
      "text/plain": [
       "+----------------------------------+----------------------------------+-----------------------+-----------------------+------------------------------+------------------------------+--------------------------------+--------------------------------+-------------------------+-------------------------+--------------------------+--------------------------+-------------------------+-------------------------+------------------------+------------------------+\n",
       "|min(currently_apparenttemperature)|max(currently_apparenttemperature)|min(currently_humidity)|max(currently_humidity)|min(currently_precipintensity)|max(currently_precipintensity)|min(currently_precipprobability)|max(currently_precipprobability)|min(currently_preciptype)|max(currently_preciptype)|min(currently_temperature)|max(currently_temperature)|min(currently_visibility)|max(currently_visibility)|min(currently_windspeed)|max(currently_windspeed)|\n",
       "+----------------------------------+----------------------------------+-----------------------+-----------------------+------------------------------+------------------------------+--------------------------------+--------------------------------+-------------------------+-------------------------+--------------------------+--------------------------+-------------------------+-------------------------+------------------------+------------------------+\n",
       "|                            -22.31|                             34.34|                   0.11|                    1.0|                           0.0|                        6.2916|                             0.0|                            0.89|                     rain|                     snow|                     -5.54|                     34.34|                      0.0|                    16.09|                    0.01|                   33.16|\n",
       "+----------------------------------+----------------------------------+-----------------------+-----------------------+------------------------------+------------------------------+--------------------------------+--------------------------------+-------------------------+-------------------------+--------------------------+--------------------------+-------------------------+-------------------------+------------------------+------------------------+"
      ]
     },
     "execution_count": 99,
     "metadata": {},
     "output_type": "execute_result"
    }
   ],
   "source": [
    "cols = ['currently_apparenttemperature', 'currently_humidity', 'currently_precipintensity', 'currently_precipprobability', 'currently_preciptype', 'currently_temperature', 'currently_visibility', 'currently_windspeed']\n",
    "min_max = ','.join([f'min({col}), max({col})' for col in cols])\n",
    "spark.sql(f'select {min_max} from a')"
   ]
  },
  {
   "cell_type": "code",
   "execution_count": 48,
   "metadata": {},
   "outputs": [
    {
     "data": {
      "text/html": [
       "<table border='1'>\n",
       "<tr><th>city</th><th>currently_apparenttemperature</th><th>currently_humidity</th><th>currently_precipintensity</th><th>currently_precipprobability</th><th>currently_preciptype</th><th>currently_temperature</th><th>currently_visibility</th><th>currently_windspeed</th><th>date_time</th></tr>\n",
       "<tr><td>Berlin</td><td>22.6</td><td>0.66</td><td>0.3378</td><td>0.1</td><td>rain</td><td>22.57</td><td>9.58</td><td>7.1</td><td>null</td></tr>\n",
       "</table>\n"
      ],
      "text/plain": [
       "+------+-----------------------------+------------------+-------------------------+---------------------------+--------------------+---------------------+--------------------+-------------------+---------+\n",
       "|  city|currently_apparenttemperature|currently_humidity|currently_precipintensity|currently_precipprobability|currently_preciptype|currently_temperature|currently_visibility|currently_windspeed|date_time|\n",
       "+------+-----------------------------+------------------+-------------------------+---------------------------+--------------------+---------------------+--------------------+-------------------+---------+\n",
       "|Berlin|                         22.6|              0.66|                   0.3378|                        0.1|                rain|                22.57|                9.58|                7.1|     null|\n",
       "+------+-----------------------------+------------------+-------------------------+---------------------------+--------------------+---------------------+--------------------+-------------------+---------+"
      ]
     },
     "execution_count": 48,
     "metadata": {},
     "output_type": "execute_result"
    }
   ],
   "source": [
    "\n",
    "spark.sql(f'select * from a where currently_visibility=9.58 AND currently_windspeed = 7.1 --  date_time = \"2019-06-03\"')"
   ]
  },
  {
   "cell_type": "code",
   "execution_count": 33,
   "metadata": {},
   "outputs": [
    {
     "name": "stdout",
     "output_type": "stream",
     "text": [
      "root\n",
      " |-- city: string (nullable = true)\n",
      " |-- currently_apparenttemperature: double (nullable = true)\n",
      " |-- currently_humidity: double (nullable = true)\n",
      " |-- currently_precipintensity: double (nullable = true)\n",
      " |-- currently_precipprobability: double (nullable = true)\n",
      " |-- currently_preciptype: string (nullable = true)\n",
      " |-- currently_temperature: double (nullable = true)\n",
      " |-- currently_visibility: string (nullable = true)\n",
      " |-- currently_windspeed: double (nullable = true)\n",
      " |-- date_time: string (nullable = true)\n",
      "\n"
     ]
    }
   ],
   "source": [
    "spark.sql(f'select * from a where currently_visibility = \"test\"') .printSchema()"
   ]
  },
  {
   "cell_type": "code",
   "execution_count": 50,
   "metadata": {},
   "outputs": [
    {
     "data": {
      "text/html": [
       "<table border='1'>\n",
       "<tr><th>currently_apparenttemperature</th></tr>\n",
       "<tr><td>34.34</td></tr>\n",
       "<tr><td>34.19</td></tr>\n",
       "<tr><td>34.01</td></tr>\n",
       "<tr><td>33.98</td></tr>\n",
       "<tr><td>33.84</td></tr>\n",
       "<tr><td>33.55</td></tr>\n",
       "<tr><td>33.44</td></tr>\n",
       "<tr><td>33.39</td></tr>\n",
       "<tr><td>33.26</td></tr>\n",
       "<tr><td>33.11</td></tr>\n",
       "<tr><td>33.09</td></tr>\n",
       "<tr><td>32.98</td></tr>\n",
       "<tr><td>32.72</td></tr>\n",
       "<tr><td>32.7</td></tr>\n",
       "<tr><td>32.58</td></tr>\n",
       "<tr><td>32.56</td></tr>\n",
       "<tr><td>32.49</td></tr>\n",
       "<tr><td>32.49</td></tr>\n",
       "<tr><td>32.47</td></tr>\n",
       "<tr><td>32.24</td></tr>\n",
       "</table>\n",
       "only showing top 20 rows\n"
      ],
      "text/plain": [
       "+-----------------------------+\n",
       "|currently_apparenttemperature|\n",
       "+-----------------------------+\n",
       "|                        34.34|\n",
       "|                        34.19|\n",
       "|                        34.01|\n",
       "|                        33.98|\n",
       "|                        33.84|\n",
       "|                        33.55|\n",
       "|                        33.44|\n",
       "|                        33.39|\n",
       "|                        33.26|\n",
       "|                        33.11|\n",
       "|                        33.09|\n",
       "|                        32.98|\n",
       "|                        32.72|\n",
       "|                         32.7|\n",
       "|                        32.58|\n",
       "|                        32.56|\n",
       "|                        32.49|\n",
       "|                        32.49|\n",
       "|                        32.47|\n",
       "|                        32.24|\n",
       "+-----------------------------+\n",
       "only showing top 20 rows"
      ]
     },
     "execution_count": 50,
     "metadata": {},
     "output_type": "execute_result"
    }
   ],
   "source": [
    "spark.sql(f'select currently_apparenttemperature from a order by currently_apparenttemperature desc')"
   ]
  },
  {
   "cell_type": "code",
   "execution_count": 41,
   "metadata": {},
   "outputs": [
    {
     "data": {
      "text/html": [
       "<table border='1'>\n",
       "<tr><th>currently_visibility</th></tr>\n",
       "<tr><td>16.09</td></tr>\n",
       "<tr><td>16.09</td></tr>\n",
       "<tr><td>16.09</td></tr>\n",
       "<tr><td>16.09</td></tr>\n",
       "<tr><td>16.09</td></tr>\n",
       "<tr><td>16.09</td></tr>\n",
       "<tr><td>16.09</td></tr>\n",
       "<tr><td>16.09</td></tr>\n",
       "<tr><td>16.09</td></tr>\n",
       "<tr><td>16.09</td></tr>\n",
       "<tr><td>16.09</td></tr>\n",
       "<tr><td>16.09</td></tr>\n",
       "<tr><td>16.09</td></tr>\n",
       "<tr><td>16.09</td></tr>\n",
       "<tr><td>16.09</td></tr>\n",
       "<tr><td>16.09</td></tr>\n",
       "<tr><td>16.09</td></tr>\n",
       "<tr><td>16.09</td></tr>\n",
       "<tr><td>16.09</td></tr>\n",
       "<tr><td>16.09</td></tr>\n",
       "</table>\n",
       "only showing top 20 rows\n"
      ],
      "text/plain": [
       "+--------------------+\n",
       "|currently_visibility|\n",
       "+--------------------+\n",
       "|               16.09|\n",
       "|               16.09|\n",
       "|               16.09|\n",
       "|               16.09|\n",
       "|               16.09|\n",
       "|               16.09|\n",
       "|               16.09|\n",
       "|               16.09|\n",
       "|               16.09|\n",
       "|               16.09|\n",
       "|               16.09|\n",
       "|               16.09|\n",
       "|               16.09|\n",
       "|               16.09|\n",
       "|               16.09|\n",
       "|               16.09|\n",
       "|               16.09|\n",
       "|               16.09|\n",
       "|               16.09|\n",
       "|               16.09|\n",
       "+--------------------+\n",
       "only showing top 20 rows"
      ]
     },
     "execution_count": 41,
     "metadata": {},
     "output_type": "execute_result"
    }
   ],
   "source": [
    "spark.sql(f'select currently_visibility from a order by currently_visibility desc')"
   ]
  },
  {
   "cell_type": "code",
   "execution_count": 39,
   "metadata": {},
   "outputs": [
    {
     "data": {
      "text/html": [
       "<table border='1'>\n",
       "<tr><th>currently_windspeed</th></tr>\n",
       "<tr><td>1004.29</td></tr>\n",
       "<tr><td>33.16</td></tr>\n",
       "<tr><td>31.41</td></tr>\n",
       "<tr><td>31.36</td></tr>\n",
       "<tr><td>26.8</td></tr>\n",
       "<tr><td>24.5</td></tr>\n",
       "<tr><td>24.32</td></tr>\n",
       "<tr><td>23.91</td></tr>\n",
       "<tr><td>22.89</td></tr>\n",
       "<tr><td>22.87</td></tr>\n",
       "<tr><td>21.65</td></tr>\n",
       "<tr><td>20.51</td></tr>\n",
       "<tr><td>20.32</td></tr>\n",
       "<tr><td>20.06</td></tr>\n",
       "<tr><td>19.79</td></tr>\n",
       "<tr><td>19.7</td></tr>\n",
       "<tr><td>19.21</td></tr>\n",
       "<tr><td>18.56</td></tr>\n",
       "<tr><td>18.24</td></tr>\n",
       "<tr><td>17.96</td></tr>\n",
       "</table>\n",
       "only showing top 20 rows\n"
      ],
      "text/plain": [
       "+-------------------+\n",
       "|currently_windspeed|\n",
       "+-------------------+\n",
       "|            1004.29|\n",
       "|              33.16|\n",
       "|              31.41|\n",
       "|              31.36|\n",
       "|               26.8|\n",
       "|               24.5|\n",
       "|              24.32|\n",
       "|              23.91|\n",
       "|              22.89|\n",
       "|              22.87|\n",
       "|              21.65|\n",
       "|              20.51|\n",
       "|              20.32|\n",
       "|              20.06|\n",
       "|              19.79|\n",
       "|               19.7|\n",
       "|              19.21|\n",
       "|              18.56|\n",
       "|              18.24|\n",
       "|              17.96|\n",
       "+-------------------+\n",
       "only showing top 20 rows"
      ]
     },
     "execution_count": 39,
     "metadata": {},
     "output_type": "execute_result"
    }
   ],
   "source": [
    "spark.sql(f'select currently_windspeed from a order by currently_windspeed desc')"
   ]
  },
  {
   "cell_type": "code",
   "execution_count": null,
   "metadata": {},
   "outputs": [],
   "source": [
    "col = 'currently_humidity'\n",
    "\n",
    "spark.sql(f'select min({col}), max({col}) from a')"
   ]
  },
  {
   "cell_type": "markdown",
   "metadata": {},
   "source": [
    "### Check track data"
   ]
  },
  {
   "cell_type": "code",
   "execution_count": 55,
   "metadata": {},
   "outputs": [
    {
     "data": {
      "text/html": [
       "<table border='1'>\n",
       "<tr><th>to_timestamp(2019-05-13 14:23:38, yyyy-MM-dd HH:mm:ss)</th></tr>\n",
       "<tr><td>2019-05-13 14:23:38</td></tr>\n",
       "</table>\n"
      ],
      "text/plain": [
       "+------------------------------------------------------+\n",
       "|to_timestamp(2019-05-13 14:23:38, yyyy-MM-dd HH:mm:ss)|\n",
       "+------------------------------------------------------+\n",
       "|                                   2019-05-13 14:23:38|\n",
       "+------------------------------------------------------+"
      ]
     },
     "execution_count": 55,
     "metadata": {},
     "output_type": "execute_result"
    }
   ],
   "source": [
    "spark.sql('select to_timestamp(\"2019-05-13 14:23:38\", \"yyyy-MM-dd HH:mm:ss\")')"
   ]
  },
  {
   "cell_type": "code",
   "execution_count": 51,
   "metadata": {},
   "outputs": [
    {
     "name": "stderr",
     "output_type": "stream",
     "text": [
      "                                                                                \r"
     ]
    }
   ],
   "source": [
    "events_df = spark.read.json('file:///data/track_events.json')\n",
    "events_df = remove_struct_name(events_df).dropDuplicates()\\\n",
    "    .withColumn(\"context_os_name\", f.expr(\"\"\"CASE \n",
    "            WHEN  context_os_name NOT IN (null, \"Android\",\"iOS\") THEN \n",
    "                CASE WHEN context_device_type = \"android\" THEN \"Android\" \n",
    "                WHEN context_device_type = \"IOS\" THEN \"iOS\" END\n",
    "            ELSE context_os_name END\"\"\"))\\\n",
    "    .withColumn(\"valid_data\", f.expr(\"\"\"CASE WHEN \n",
    "        TO_TIMESTAMP(received_time, \"yyyy-MM-dd HH:mm:ss\") IS  NULL\n",
    "        OR TO_TIMESTAMP(sent_time, \"yyyy-MM-dd HH:mm:ss\") IS  NULL\n",
    "        OR TO_TIMESTAMP(original_timestamp_time, \"yyyy-MM-dd HH:mm:ss\") IS  NULL\n",
    "        OR BIGINT(REPLACE(context_app_version, '.','')) IS NULL\n",
    "        OR BIGINT(REPLACE(context_os_version, '.','')) IS NULL\n",
    "        OR BIGINT(REPLACE(context_app_build, '.','')) IS NULL\n",
    "        OR anonymous_id IS NULL\n",
    "        OR event_name IS NULL\n",
    "        THEN false ELSE TRUE END\"\"\"))\n",
    "                \n",
    "events_df.drop('_corrupt_record').withColumn('received_time', f.to_timestamp(f.col('received_time'), \"yyyy-MM-dd HH:mm:ss\"))\\\n",
    "    .withColumn('sent_time', f.to_timestamp(f.col('sent_time'), \"yyyy-MM-dd HH:mm:ss\"))\\\n",
    "    .withColumn('original_timestamp_time', f.to_timestamp(f.col('original_timestamp_time'), \"yyyy-MM-dd HH:mm:ss\"))\\\n",
    ".registerTempTable('b')"
   ]
  },
  {
   "cell_type": "code",
   "execution_count": 54,
   "metadata": {},
   "outputs": [
    {
     "name": "stderr",
     "output_type": "stream",
     "text": [
      "                                                                                \r"
     ]
    },
    {
     "data": {
      "text/html": [
       "<table border='1'>\n",
       "<tr><th>anonymous_id</th><th>context_app_build</th><th>context_app_name</th><th>context_app_version</th><th>context_device_id</th><th>context_device_manufacturer</th><th>context_device_model</th><th>context_device_type</th><th>context_os_name</th><th>context_os_version</th><th>context_timezone</th><th>event_name</th><th>original_timestamp_time</th><th>properties_rating</th><th>received_time</th><th>sent_time</th><th>valid_data</th></tr>\n",
       "<tr><td>null</td><td>null</td><td>null</td><td>null</td><td>206A4930-3248-46A8-94D7-60DDD435B05D</td><td>Apple</td><td>iPhone10,5</td><td>ios</td><td>iOS</td><td>12.0.1</td><td>Europe/Oslo</td><td>null</td><td>null</td><td>null</td><td>null</td><td>2019-05-13 14:23:38</td><td>false</td></tr>\n",
       "<tr><td>null</td><td>null</td><td>null</td><td>null</td><td>null</td><td>null</td><td>null</td><td>null</td><td>null</td><td>null</td><td>null</td><td>null</td><td>null</td><td>null</td><td>null</td><td>null</td><td>false</td></tr>\n",
       "</table>\n"
      ],
      "text/plain": [
       "+------------+-----------------+----------------+-------------------+------------------------------------+---------------------------+--------------------+-------------------+---------------+------------------+----------------+----------+-----------------------+-----------------+-------------+-------------------+----------+\n",
       "|anonymous_id|context_app_build|context_app_name|context_app_version|                   context_device_id|context_device_manufacturer|context_device_model|context_device_type|context_os_name|context_os_version|context_timezone|event_name|original_timestamp_time|properties_rating|received_time|          sent_time|valid_data|\n",
       "+------------+-----------------+----------------+-------------------+------------------------------------+---------------------------+--------------------+-------------------+---------------+------------------+----------------+----------+-----------------------+-----------------+-------------+-------------------+----------+\n",
       "|        null|             null|            null|               null|206A4930-3248-46A8-94D7-60DDD435B05D|                      Apple|          iPhone10,5|                ios|            iOS|            12.0.1|     Europe/Oslo|      null|                   null|             null|         null|2019-05-13 14:23:38|     false|\n",
       "|        null|             null|            null|               null|                                null|                       null|                null|               null|           null|              null|            null|      null|                   null|             null|         null|               null|     false|\n",
       "+------------+-----------------+----------------+-------------------+------------------------------------+---------------------------+--------------------+-------------------+---------------+------------------+----------------+----------+-----------------------+-----------------+-------------+-------------------+----------+"
      ]
     },
     "execution_count": 54,
     "metadata": {},
     "output_type": "execute_result"
    }
   ],
   "source": [
    "spark.sql('select * from b where event_name is null')"
   ]
  },
  {
   "cell_type": "code",
   "execution_count": 53,
   "metadata": {},
   "outputs": [
    {
     "name": "stderr",
     "output_type": "stream",
     "text": [
      "                                                                                \r"
     ]
    },
    {
     "data": {
      "text/html": [
       "<table border='1'>\n",
       "<tr><th>anonymous_id</th><th>context_app_build</th><th>context_app_name</th><th>context_app_version</th><th>context_device_id</th><th>context_device_manufacturer</th><th>context_device_model</th><th>context_device_type</th><th>context_os_name</th><th>context_os_version</th><th>context_timezone</th><th>event_name</th><th>original_timestamp_time</th><th>properties_rating</th><th>received_time</th><th>sent_time</th><th>valid_data</th></tr>\n",
       "<tr><td>null</td><td>null</td><td>null</td><td>null</td><td>206A4930-3248-46A8-94D7-60DDD435B05D</td><td>Apple</td><td>iPhone10,5</td><td>ios</td><td>iOS</td><td>12.0.1</td><td>Europe/Oslo</td><td>null</td><td>null</td><td>null</td><td>null</td><td>2019-05-13 14:23:38</td><td>false</td></tr>\n",
       "<tr><td>null</td><td>null</td><td>null</td><td>null</td><td>null</td><td>null</td><td>null</td><td>null</td><td>null</td><td>null</td><td>null</td><td>null</td><td>null</td><td>null</td><td>null</td><td>null</td><td>false</td></tr>\n",
       "</table>\n"
      ],
      "text/plain": [
       "+------------+-----------------+----------------+-------------------+------------------------------------+---------------------------+--------------------+-------------------+---------------+------------------+----------------+----------+-----------------------+-----------------+-------------+-------------------+----------+\n",
       "|anonymous_id|context_app_build|context_app_name|context_app_version|                   context_device_id|context_device_manufacturer|context_device_model|context_device_type|context_os_name|context_os_version|context_timezone|event_name|original_timestamp_time|properties_rating|received_time|          sent_time|valid_data|\n",
       "+------------+-----------------+----------------+-------------------+------------------------------------+---------------------------+--------------------+-------------------+---------------+------------------+----------------+----------+-----------------------+-----------------+-------------+-------------------+----------+\n",
       "|        null|             null|            null|               null|206A4930-3248-46A8-94D7-60DDD435B05D|                      Apple|          iPhone10,5|                ios|            iOS|            12.0.1|     Europe/Oslo|      null|                   null|             null|         null|2019-05-13 14:23:38|     false|\n",
       "|        null|             null|            null|               null|                                null|                       null|                null|               null|           null|              null|            null|      null|                   null|             null|         null|               null|     false|\n",
       "+------------+-----------------+----------------+-------------------+------------------------------------+---------------------------+--------------------+-------------------+---------------+------------------+----------------+----------+-----------------------+-----------------+-------------+-------------------+----------+"
      ]
     },
     "execution_count": 53,
     "metadata": {},
     "output_type": "execute_result"
    }
   ],
   "source": [
    "spark.sql('select * from b where anonymous_id is null')"
   ]
  },
  {
   "cell_type": "code",
   "execution_count": 17,
   "metadata": {},
   "outputs": [
    {
     "name": "stdout",
     "output_type": "stream",
     "text": [
      "root\n",
      " |-- anonymous_id: string (nullable = true)\n",
      " |-- context_app_build: string (nullable = true)\n",
      " |-- context_app_name: string (nullable = true)\n",
      " |-- context_app_version: string (nullable = true)\n",
      " |-- context_device_id: string (nullable = true)\n",
      " |-- context_device_manufacturer: string (nullable = true)\n",
      " |-- context_device_model: string (nullable = true)\n",
      " |-- context_device_type: string (nullable = true)\n",
      " |-- context_os_name: string (nullable = true)\n",
      " |-- context_os_version: string (nullable = true)\n",
      " |-- context_timezone: string (nullable = true)\n",
      " |-- event_name: string (nullable = true)\n",
      " |-- original_timestamp_time: string (nullable = true)\n",
      " |-- properties_rating: string (nullable = true)\n",
      " |-- received_time: string (nullable = true)\n",
      " |-- sent_time: string (nullable = true)\n",
      "\n"
     ]
    }
   ],
   "source": [
    "spark.sql('select * from b').printSchema()"
   ]
  },
  {
   "cell_type": "code",
   "execution_count": 21,
   "metadata": {},
   "outputs": [
    {
     "name": "stderr",
     "output_type": "stream",
     "text": [
      "                                                                                \r"
     ]
    },
    {
     "data": {
      "text/html": [
       "<table border='1'>\n",
       "<tr><th>gg</th></tr>\n",
       "<tr><td>null</td></tr>\n",
       "<tr><td>A-gold</td></tr>\n",
       "<tr><td>Acer</td></tr>\n",
       "<tr><td>Agm</td></tr>\n",
       "<tr><td>Alps</td></tr>\n",
       "<tr><td>Apple</td></tr>\n",
       "<tr><td>Asus</td></tr>\n",
       "<tr><td>Blackberry</td></tr>\n",
       "<tr><td>Blackview</td></tr>\n",
       "<tr><td>Blu</td></tr>\n",
       "<tr><td>Bluboo</td></tr>\n",
       "<tr><td>Bq</td></tr>\n",
       "<tr><td>Bullittgrouplimited</td></tr>\n",
       "<tr><td>Condor</td></tr>\n",
       "<tr><td>Coosea</td></tr>\n",
       "<tr><td>Crosscall</td></tr>\n",
       "<tr><td>Cubot</td></tr>\n",
       "<tr><td>Danew</td></tr>\n",
       "<tr><td>Doogee</td></tr>\n",
       "<tr><td>Doopro</td></tr>\n",
       "</table>\n",
       "only showing top 20 rows\n"
      ],
      "text/plain": [
       "+-------------------+\n",
       "|                 gg|\n",
       "+-------------------+\n",
       "|               null|\n",
       "|             A-gold|\n",
       "|               Acer|\n",
       "|                Agm|\n",
       "|               Alps|\n",
       "|              Apple|\n",
       "|               Asus|\n",
       "|         Blackberry|\n",
       "|          Blackview|\n",
       "|                Blu|\n",
       "|             Bluboo|\n",
       "|                 Bq|\n",
       "|Bullittgrouplimited|\n",
       "|             Condor|\n",
       "|             Coosea|\n",
       "|          Crosscall|\n",
       "|              Cubot|\n",
       "|              Danew|\n",
       "|             Doogee|\n",
       "|             Doopro|\n",
       "+-------------------+\n",
       "only showing top 20 rows"
      ]
     },
     "execution_count": 21,
     "metadata": {},
     "output_type": "execute_result"
    }
   ],
   "source": [
    "spark.sql('select distinct initcap(context_device_manufacturer) as gg from b order by gg')"
   ]
  },
  {
   "cell_type": "code",
   "execution_count": 113,
   "metadata": {},
   "outputs": [
    {
     "data": {
      "text/html": [
       "<table border='1'>\n",
       "<tr><th>context_app_name</th></tr>\n",
       "<tr><td>null</td></tr>\n",
       "<tr><td>Tier</td></tr>\n",
       "</table>\n"
      ],
      "text/plain": [
       "+----------------+\n",
       "|context_app_name|\n",
       "+----------------+\n",
       "|            null|\n",
       "|            Tier|\n",
       "+----------------+"
      ]
     },
     "execution_count": 113,
     "metadata": {},
     "output_type": "execute_result"
    }
   ],
   "source": [
    "spark.sql('select distinct context_app_name from b')"
   ]
  },
  {
   "cell_type": "code",
   "execution_count": 19,
   "metadata": {},
   "outputs": [
    {
     "data": {
      "text/html": [
       "<table border='1'>\n",
       "<tr><th>context_device_type</th></tr>\n",
       "<tr><td>null</td></tr>\n",
       "<tr><td>android</td></tr>\n",
       "<tr><td>ios</td></tr>\n",
       "</table>\n"
      ],
      "text/plain": [
       "+-------------------+\n",
       "|context_device_type|\n",
       "+-------------------+\n",
       "|               null|\n",
       "|            android|\n",
       "|                ios|\n",
       "+-------------------+"
      ]
     },
     "execution_count": 19,
     "metadata": {},
     "output_type": "execute_result"
    }
   ],
   "source": [
    "spark.sql('select distinct context_device_type from b')"
   ]
  },
  {
   "cell_type": "code",
   "execution_count": 106,
   "metadata": {},
   "outputs": [
    {
     "data": {
      "text/html": [
       "<table border='1'>\n",
       "<tr><th>context_os_name</th></tr>\n",
       "<tr><td>null</td></tr>\n",
       "<tr><td></td></tr>\n",
       "<tr><td>Android</td></tr>\n",
       "<tr><td>iOS</td></tr>\n",
       "</table>\n"
      ],
      "text/plain": [
       "+---------------+\n",
       "|context_os_name|\n",
       "+---------------+\n",
       "|           null|\n",
       "|               |\n",
       "|        Android|\n",
       "|            iOS|\n",
       "+---------------+"
      ]
     },
     "execution_count": 106,
     "metadata": {},
     "output_type": "execute_result"
    }
   ],
   "source": [
    "spark.sql('select distinct context_os_name from b')"
   ]
  },
  {
   "cell_type": "code",
   "execution_count": 116,
   "metadata": {},
   "outputs": [
    {
     "data": {
      "text/html": [
       "<table border='1'>\n",
       "<tr><th>event_name</th></tr>\n",
       "<tr><td>null</td></tr>\n",
       "<tr><td>Account Setup Opened</td></tr>\n",
       "<tr><td>App Rated - Feedback</td></tr>\n",
       "<tr><td>App Rated - Forwarded</td></tr>\n",
       "<tr><td>App Rated - In App</td></tr>\n",
       "<tr><td>App Rated - No App Store</td></tr>\n",
       "<tr><td>Application Installed</td></tr>\n",
       "<tr><td>Application Opened</td></tr>\n",
       "<tr><td>Application Updated</td></tr>\n",
       "<tr><td>Customer Blocked - Phone Validation</td></tr>\n",
       "<tr><td>Help - Booking</td></tr>\n",
       "<tr><td>Help - Sidebar</td></tr>\n",
       "<tr><td>Invite Friends</td></tr>\n",
       "<tr><td>Layover - Tier Not Available Yet</td></tr>\n",
       "<tr><td>Location Services Dialogue Opened</td></tr>\n",
       "<tr><td>Location Services Enabled</td></tr>\n",
       "<tr><td>Map View Opened</td></tr>\n",
       "<tr><td>Payment Details Accepted</td></tr>\n",
       "<tr><td>Payment Details Rejected</td></tr>\n",
       "<tr><td>Payment Details Screen Opened</td></tr>\n",
       "</table>\n",
       "only showing top 20 rows\n"
      ],
      "text/plain": [
       "+-----------------------------------+\n",
       "|                         event_name|\n",
       "+-----------------------------------+\n",
       "|                               null|\n",
       "|               Account Setup Opened|\n",
       "|               App Rated - Feedback|\n",
       "|              App Rated - Forwarded|\n",
       "|                 App Rated - In App|\n",
       "|           App Rated - No App Store|\n",
       "|              Application Installed|\n",
       "|                 Application Opened|\n",
       "|                Application Updated|\n",
       "|Customer Blocked - Phone Validation|\n",
       "|                     Help - Booking|\n",
       "|                     Help - Sidebar|\n",
       "|                     Invite Friends|\n",
       "|   Layover - Tier Not Available Yet|\n",
       "|  Location Services Dialogue Opened|\n",
       "|          Location Services Enabled|\n",
       "|                    Map View Opened|\n",
       "|           Payment Details Accepted|\n",
       "|           Payment Details Rejected|\n",
       "|      Payment Details Screen Opened|\n",
       "+-----------------------------------+\n",
       "only showing top 20 rows"
      ]
     },
     "execution_count": 116,
     "metadata": {},
     "output_type": "execute_result"
    }
   ],
   "source": [
    "spark.sql('select distinct event_name from b order by event_name asc')"
   ]
  },
  {
   "cell_type": "code",
   "execution_count": 117,
   "metadata": {},
   "outputs": [
    {
     "data": {
      "text/html": [
       "<table border='1'>\n",
       "<tr><th>properties_rating</th></tr>\n",
       "<tr><td>null</td></tr>\n",
       "<tr><td>3</td></tr>\n",
       "<tr><td>1</td></tr>\n",
       "<tr><td>5</td></tr>\n",
       "<tr><td>4</td></tr>\n",
       "<tr><td>2</td></tr>\n",
       "</table>\n"
      ],
      "text/plain": [
       "+-----------------+\n",
       "|properties_rating|\n",
       "+-----------------+\n",
       "|             null|\n",
       "|                3|\n",
       "|                1|\n",
       "|                5|\n",
       "|                4|\n",
       "|                2|\n",
       "+-----------------+"
      ]
     },
     "execution_count": 117,
     "metadata": {},
     "output_type": "execute_result"
    }
   ],
   "source": [
    "spark.sql('select distinct properties_rating from b')"
   ]
  },
  {
   "cell_type": "code",
   "execution_count": 114,
   "metadata": {},
   "outputs": [
    {
     "data": {
      "text/html": [
       "<table border='1'>\n",
       "<tr><th>context_app_version</th></tr>\n",
       "<tr><td>null</td></tr>\n",
       "<tr><td>3.0.2</td></tr>\n",
       "<tr><td>3.0.3</td></tr>\n",
       "<tr><td>3.0.7</td></tr>\n",
       "<tr><td>3.0.1</td></tr>\n",
       "<tr><td>3.0.6</td></tr>\n",
       "<tr><td>3.0.8</td></tr>\n",
       "<tr><td>3.0.0</td></tr>\n",
       "<tr><td>3.0.5</td></tr>\n",
       "<tr><td>3.0.4</td></tr>\n",
       "</table>\n"
      ],
      "text/plain": [
       "+-------------------+\n",
       "|context_app_version|\n",
       "+-------------------+\n",
       "|               null|\n",
       "|              3.0.2|\n",
       "|              3.0.3|\n",
       "|              3.0.7|\n",
       "|              3.0.1|\n",
       "|              3.0.6|\n",
       "|              3.0.8|\n",
       "|              3.0.0|\n",
       "|              3.0.5|\n",
       "|              3.0.4|\n",
       "+-------------------+"
      ]
     },
     "execution_count": 114,
     "metadata": {},
     "output_type": "execute_result"
    }
   ],
   "source": [
    "spark.sql('select distinct context_app_version from b')"
   ]
  },
  {
   "cell_type": "code",
   "execution_count": 118,
   "metadata": {},
   "outputs": [
    {
     "data": {
      "text/html": [
       "<table border='1'>\n",
       "<tr><th>context_device_model</th></tr>\n",
       "<tr><td>Phantom6-Plus</td></tr>\n",
       "<tr><td>HTC U11 life</td></tr>\n",
       "<tr><td>SM-A505FN</td></tr>\n",
       "<tr><td>SM-J710F</td></tr>\n",
       "<tr><td>SM-A750F</td></tr>\n",
       "<tr><td>Redmi Note 4</td></tr>\n",
       "<tr><td>LG-H815</td></tr>\n",
       "<tr><td>CLT-L04</td></tr>\n",
       "<tr><td>SM-J530F</td></tr>\n",
       "<tr><td>SM-T580</td></tr>\n",
       "<tr><td>H3113</td></tr>\n",
       "<tr><td>null</td></tr>\n",
       "<tr><td>SNE-LX3</td></tr>\n",
       "<tr><td>CUBOT_X18_Plus</td></tr>\n",
       "<tr><td>CPH1819</td></tr>\n",
       "<tr><td>D5803</td></tr>\n",
       "<tr><td>Swift 2</td></tr>\n",
       "<tr><td>S8</td></tr>\n",
       "<tr><td>MI 8 Lite</td></tr>\n",
       "<tr><td>LYA-AL10</td></tr>\n",
       "</table>\n",
       "only showing top 20 rows\n"
      ],
      "text/plain": [
       "+--------------------+\n",
       "|context_device_model|\n",
       "+--------------------+\n",
       "|       Phantom6-Plus|\n",
       "|        HTC U11 life|\n",
       "|           SM-A505FN|\n",
       "|            SM-J710F|\n",
       "|            SM-A750F|\n",
       "|        Redmi Note 4|\n",
       "|             LG-H815|\n",
       "|             CLT-L04|\n",
       "|            SM-J530F|\n",
       "|             SM-T580|\n",
       "|               H3113|\n",
       "|                null|\n",
       "|             SNE-LX3|\n",
       "|      CUBOT_X18_Plus|\n",
       "|             CPH1819|\n",
       "|               D5803|\n",
       "|             Swift 2|\n",
       "|                  S8|\n",
       "|           MI 8 Lite|\n",
       "|            LYA-AL10|\n",
       "+--------------------+\n",
       "only showing top 20 rows"
      ]
     },
     "execution_count": 118,
     "metadata": {},
     "output_type": "execute_result"
    }
   ],
   "source": [
    "spark.sql('select distinct context_device_model from b')"
   ]
  },
  {
   "cell_type": "code",
   "execution_count": 28,
   "metadata": {},
   "outputs": [
    {
     "name": "stderr",
     "output_type": "stream",
     "text": [
      "                                                                                \r"
     ]
    },
    {
     "data": {
      "text/html": [
       "<table border='1'>\n",
       "<tr><th>context_timezone</th></tr>\n",
       "<tr><td>Pacific/Noumea</td></tr>\n",
       "<tr><td>Pacific/Midway</td></tr>\n",
       "<tr><td>Europe/Zurich</td></tr>\n",
       "<tr><td>Europe/Zagreb</td></tr>\n",
       "<tr><td>Europe/Warsaw</td></tr>\n",
       "<tr><td>Europe/Vilnius</td></tr>\n",
       "<tr><td>Europe/Vienna</td></tr>\n",
       "<tr><td>Europe/Vatican</td></tr>\n",
       "<tr><td>Europe/Tallinn</td></tr>\n",
       "<tr><td>Europe/Stockholm</td></tr>\n",
       "<tr><td>Europe/Rome</td></tr>\n",
       "<tr><td>Europe/Riga</td></tr>\n",
       "<tr><td>Europe/Prague</td></tr>\n",
       "<tr><td>Europe/Paris</td></tr>\n",
       "<tr><td>Europe/Oslo</td></tr>\n",
       "<tr><td>Europe/Moscow</td></tr>\n",
       "<tr><td>Europe/Monaco</td></tr>\n",
       "<tr><td>Europe/Minsk</td></tr>\n",
       "<tr><td>Europe/Malta</td></tr>\n",
       "<tr><td>Europe/Madrid</td></tr>\n",
       "</table>\n",
       "only showing top 20 rows\n"
      ],
      "text/plain": [
       "+----------------+\n",
       "|context_timezone|\n",
       "+----------------+\n",
       "|  Pacific/Noumea|\n",
       "|  Pacific/Midway|\n",
       "|   Europe/Zurich|\n",
       "|   Europe/Zagreb|\n",
       "|   Europe/Warsaw|\n",
       "|  Europe/Vilnius|\n",
       "|   Europe/Vienna|\n",
       "|  Europe/Vatican|\n",
       "|  Europe/Tallinn|\n",
       "|Europe/Stockholm|\n",
       "|     Europe/Rome|\n",
       "|     Europe/Riga|\n",
       "|   Europe/Prague|\n",
       "|    Europe/Paris|\n",
       "|     Europe/Oslo|\n",
       "|   Europe/Moscow|\n",
       "|   Europe/Monaco|\n",
       "|    Europe/Minsk|\n",
       "|    Europe/Malta|\n",
       "|   Europe/Madrid|\n",
       "+----------------+\n",
       "only showing top 20 rows"
      ]
     },
     "execution_count": 28,
     "metadata": {},
     "output_type": "execute_result"
    }
   ],
   "source": [
    "spark.sql('select distinct context_timezone from b order by context_timezone desc') "
   ]
  },
  {
   "cell_type": "code",
   "execution_count": 22,
   "metadata": {},
   "outputs": [
    {
     "name": "stderr",
     "output_type": "stream",
     "text": [
      "                                                                                \r"
     ]
    },
    {
     "data": {
      "text/html": [
       "<table border='1'>\n",
       "<tr><th>context_os_version</th></tr>\n",
       "<tr><td>Q</td></tr>\n",
       "<tr><td>Q</td></tr>\n",
       "<tr><td>Q</td></tr>\n",
       "<tr><td>Q</td></tr>\n",
       "<tr><td>Q</td></tr>\n",
       "<tr><td>9</td></tr>\n",
       "<tr><td>9</td></tr>\n",
       "<tr><td>9</td></tr>\n",
       "<tr><td>9</td></tr>\n",
       "<tr><td>9</td></tr>\n",
       "<tr><td>9</td></tr>\n",
       "<tr><td>9</td></tr>\n",
       "<tr><td>9</td></tr>\n",
       "<tr><td>9</td></tr>\n",
       "<tr><td>9</td></tr>\n",
       "<tr><td>9</td></tr>\n",
       "<tr><td>9</td></tr>\n",
       "<tr><td>9</td></tr>\n",
       "<tr><td>9</td></tr>\n",
       "<tr><td>9</td></tr>\n",
       "</table>\n",
       "only showing top 20 rows\n"
      ],
      "text/plain": [
       "+------------------+\n",
       "|context_os_version|\n",
       "+------------------+\n",
       "|                 Q|\n",
       "|                 Q|\n",
       "|                 Q|\n",
       "|                 Q|\n",
       "|                 Q|\n",
       "|                 9|\n",
       "|                 9|\n",
       "|                 9|\n",
       "|                 9|\n",
       "|                 9|\n",
       "|                 9|\n",
       "|                 9|\n",
       "|                 9|\n",
       "|                 9|\n",
       "|                 9|\n",
       "|                 9|\n",
       "|                 9|\n",
       "|                 9|\n",
       "|                 9|\n",
       "|                 9|\n",
       "+------------------+\n",
       "only showing top 20 rows"
      ]
     },
     "execution_count": 22,
     "metadata": {},
     "output_type": "execute_result"
    }
   ],
   "source": [
    "spark.sql('select context_os_version from b order by context_os_version desc') "
   ]
  },
  {
   "cell_type": "code",
   "execution_count": 23,
   "metadata": {},
   "outputs": [
    {
     "name": "stderr",
     "output_type": "stream",
     "text": [
      "                                                                                \r"
     ]
    },
    {
     "data": {
      "text/html": [
       "<table border='1'>\n",
       "<tr><th>anonymous_id</th><th>context_app_build</th><th>context_app_name</th><th>context_app_version</th><th>context_device_id</th><th>context_device_manufacturer</th><th>context_device_model</th><th>context_device_type</th><th>context_os_name</th><th>context_os_version</th><th>context_timezone</th><th>event_name</th><th>original_timestamp_time</th><th>properties_rating</th><th>received_time</th><th>sent_time</th></tr>\n",
       "<tr><td>null</td><td>null</td><td>null</td><td>null</td><td>null</td><td>null</td><td>null</td><td>null</td><td>null</td><td>null</td><td>null</td><td>null</td><td>null</td><td>null</td><td>null</td><td>null</td></tr>\n",
       "<tr><td>null</td><td>null</td><td>null</td><td>null</td><td>206A4930-3248-46A8-94D7-60DDD435B05D</td><td>Apple</td><td>iPhone10,5</td><td>ios</td><td>iOS</td><td>12.0.1</td><td>Europe/Oslo</td><td>null</td><td>null</td><td>null</td><td>null</td><td>2019-05-13 14:23:38</td></tr>\n",
       "</table>\n"
      ],
      "text/plain": [
       "+------------+-----------------+----------------+-------------------+------------------------------------+---------------------------+--------------------+-------------------+---------------+------------------+----------------+----------+-----------------------+-----------------+-------------+-------------------+\n",
       "|anonymous_id|context_app_build|context_app_name|context_app_version|                   context_device_id|context_device_manufacturer|context_device_model|context_device_type|context_os_name|context_os_version|context_timezone|event_name|original_timestamp_time|properties_rating|received_time|          sent_time|\n",
       "+------------+-----------------+----------------+-------------------+------------------------------------+---------------------------+--------------------+-------------------+---------------+------------------+----------------+----------+-----------------------+-----------------+-------------+-------------------+\n",
       "|        null|             null|            null|               null|                                null|                       null|                null|               null|           null|              null|            null|      null|                   null|             null|         null|               null|\n",
       "|        null|             null|            null|               null|206A4930-3248-46A8-94D7-60DDD435B05D|                      Apple|          iPhone10,5|                ios|            iOS|            12.0.1|     Europe/Oslo|      null|                   null|             null|         null|2019-05-13 14:23:38|\n",
       "+------------+-----------------+----------------+-------------------+------------------------------------+---------------------------+--------------------+-------------------+---------------+------------------+----------------+----------+-----------------------+-----------------+-------------+-------------------+"
      ]
     },
     "execution_count": 23,
     "metadata": {},
     "output_type": "execute_result"
    }
   ],
   "source": [
    "spark.sql('select * from b where event_name is null')"
   ]
  },
  {
   "cell_type": "code",
   "execution_count": 30,
   "metadata": {},
   "outputs": [
    {
     "name": "stderr",
     "output_type": "stream",
     "text": [
      "                                                                                \r"
     ]
    },
    {
     "data": {
      "text/html": [
       "<table border='1'>\n",
       "<tr><th>anonymous_id</th><th>context_app_build</th><th>context_app_name</th><th>context_app_version</th><th>context_device_id</th><th>context_device_manufacturer</th><th>context_device_model</th><th>context_device_type</th><th>context_os_name</th><th>context_os_version</th><th>context_timezone</th><th>event_name</th><th>original_timestamp_time</th><th>properties_rating</th><th>received_time</th><th>sent_time</th></tr>\n",
       "</table>\n"
      ],
      "text/plain": [
       "+------------+-----------------+----------------+-------------------+-----------------+---------------------------+--------------------+-------------------+---------------+------------------+----------------+----------+-----------------------+-----------------+-------------+---------+\n",
       "|anonymous_id|context_app_build|context_app_name|context_app_version|context_device_id|context_device_manufacturer|context_device_model|context_device_type|context_os_name|context_os_version|context_timezone|event_name|original_timestamp_time|properties_rating|received_time|sent_time|\n",
       "+------------+-----------------+----------------+-------------------+-----------------+---------------------------+--------------------+-------------------+---------------+------------------+----------------+----------+-----------------------+-----------------+-------------+---------+\n",
       "+------------+-----------------+----------------+-------------------+-----------------+---------------------------+--------------------+-------------------+---------------+------------------+----------------+----------+-----------------------+-----------------+-------------+---------+"
      ]
     },
     "execution_count": 30,
     "metadata": {},
     "output_type": "execute_result"
    }
   ],
   "source": [
    "spark.sql('select * from b WHERE context_os_name =\"iOS\" and context_device_type = \"android\"')"
   ]
  },
  {
   "cell_type": "code",
   "execution_count": 107,
   "metadata": {},
   "outputs": [
    {
     "data": {
      "text/html": [
       "<table border='1'>\n",
       "<tr><th>_corrupt_record</th><th>anonymous_id</th><th>context_app_build</th><th>context_app_name</th><th>context_app_version</th><th>context_device_id</th><th>context_device_manufacturer</th><th>context_device_model</th><th>context_device_type</th><th>context_os_name</th><th>context_os_version</th><th>context_timezone</th><th>event_name</th><th>original_timestamp_time</th><th>properties_rating</th><th>received_time</th><th>sent_time</th></tr>\n",
       "<tr><td>null</td><td>476D8356-AEC5-40D6-96FE-1D5E06D22ACB</td><td>3.0.4.1</td><td>Tier</td><td>3.0.4</td><td>3932FD8C-BD82-4240-8AD6-3F2369705EF5</td><td>Apple</td><td>iPhone7,2</td><td>ios</td><td></td><td>12.2</td><td>Europe/Copenhagen</td><td>Signup Started</td><td>2019-05-13 14:23:45</td><td>null</td><td>2019-05-13 14:23:47</td><td>2019-05-13 14:23:47</td></tr>\n",
       "<tr><td>null</td><td>3aeb3f30-416c-4255-a44d-ce15e4938bfb</td><td>300380</td><td>Tier</td><td>3.0.8</td><td>d46c3ede716c676c</td><td>Xiaomi</td><td>Redmi 5</td><td>android</td><td></td><td>7.1.2</td><td>Europe/Madrid</td><td>Map View Opened</td><td>2019-05-13 14:23:44</td><td>null</td><td>2019-05-13 14:23:47</td><td>2019-05-13 14:23:47</td></tr>\n",
       "</table>\n"
      ],
      "text/plain": [
       "+---------------+------------------------------------+-----------------+----------------+-------------------+------------------------------------+---------------------------+--------------------+-------------------+---------------+------------------+-----------------+---------------+-----------------------+-----------------+-------------------+-------------------+\n",
       "|_corrupt_record|                        anonymous_id|context_app_build|context_app_name|context_app_version|                   context_device_id|context_device_manufacturer|context_device_model|context_device_type|context_os_name|context_os_version| context_timezone|     event_name|original_timestamp_time|properties_rating|      received_time|          sent_time|\n",
       "+---------------+------------------------------------+-----------------+----------------+-------------------+------------------------------------+---------------------------+--------------------+-------------------+---------------+------------------+-----------------+---------------+-----------------------+-----------------+-------------------+-------------------+\n",
       "|           null|476D8356-AEC5-40D6-96FE-1D5E06D22ACB|          3.0.4.1|            Tier|              3.0.4|3932FD8C-BD82-4240-8AD6-3F2369705EF5|                      Apple|           iPhone7,2|                ios|               |              12.2|Europe/Copenhagen| Signup Started|    2019-05-13 14:23:45|             null|2019-05-13 14:23:47|2019-05-13 14:23:47|\n",
       "|           null|3aeb3f30-416c-4255-a44d-ce15e4938bfb|           300380|            Tier|              3.0.8|                    d46c3ede716c676c|                     Xiaomi|             Redmi 5|            android|               |             7.1.2|    Europe/Madrid|Map View Opened|    2019-05-13 14:23:44|             null|2019-05-13 14:23:47|2019-05-13 14:23:47|\n",
       "+---------------+------------------------------------+-----------------+----------------+-------------------+------------------------------------+---------------------------+--------------------+-------------------+---------------+------------------+-----------------+---------------+-----------------------+-----------------+-------------------+-------------------+"
      ]
     },
     "execution_count": 107,
     "metadata": {},
     "output_type": "execute_result"
    }
   ],
   "source": [
    "spark.sql('select * from b WHERE context_os_name =\"\"')"
   ]
  },
  {
   "cell_type": "code",
   "execution_count": 26,
   "metadata": {},
   "outputs": [
    {
     "name": "stderr",
     "output_type": "stream",
     "text": [
      "                                                                                \r"
     ]
    },
    {
     "data": {
      "text/html": [
       "<table border='1'>\n",
       "<tr><th>anonymous_id</th><th>context_app_build</th><th>context_app_name</th><th>context_app_version</th><th>context_device_id</th><th>context_device_manufacturer</th><th>context_device_model</th><th>context_device_type</th><th>context_os_name</th><th>context_os_version</th><th>context_timezone</th><th>event_name</th><th>original_timestamp_time</th><th>properties_rating</th><th>received_time</th><th>sent_time</th></tr>\n",
       "<tr><td>828a755b-6e5f-4b3c-ae28-7cdfac2fa9bf</td><td>300380</td><td>Tier</td><td>3.0.8</td><td>420cc7c499b4b243</td><td>Google</td><td>Pixel 2</td><td>android</td><td>Android</td><td>Q</td><td>Europe/Berlin</td><td>Application Opened</td><td>2019-05-13 11:57:05</td><td>null</td><td>2019-05-13 11:57:36</td><td>2019-05-13 11:57:36</td></tr>\n",
       "<tr><td>828a755b-6e5f-4b3c-ae28-7cdfac2fa9bf</td><td>300380</td><td>Tier</td><td>3.0.8</td><td>420cc7c499b4b243</td><td>Google</td><td>Pixel 2</td><td>android</td><td>Android</td><td>Q</td><td>Europe/Berlin</td><td>Application Updated</td><td>2019-05-13 11:57:05</td><td>null</td><td>2019-05-13 11:57:36</td><td>2019-05-13 11:57:36</td></tr>\n",
       "<tr><td>828a755b-6e5f-4b3c-ae28-7cdfac2fa9bf</td><td>300380</td><td>Tier</td><td>3.0.8</td><td>420cc7c499b4b243</td><td>Google</td><td>Pixel 2</td><td>android</td><td>Android</td><td>Q</td><td>Europe/Berlin</td><td>Scooter Selected - User</td><td>2019-05-13 11:57:19</td><td>null</td><td>2019-05-13 11:57:36</td><td>2019-05-13 11:57:36</td></tr>\n",
       "<tr><td>828a755b-6e5f-4b3c-ae28-7cdfac2fa9bf</td><td>300380</td><td>Tier</td><td>3.0.8</td><td>420cc7c499b4b243</td><td>Google</td><td>Pixel 2</td><td>android</td><td>Android</td><td>Q</td><td>Europe/Berlin</td><td>Map View Opened</td><td>2019-05-13 11:57:07</td><td>null</td><td>2019-05-13 11:57:36</td><td>2019-05-13 11:57:36</td></tr>\n",
       "<tr><td>828a755b-6e5f-4b3c-ae28-7cdfac2fa9bf</td><td>300380</td><td>Tier</td><td>3.0.8</td><td>420cc7c499b4b243</td><td>Google</td><td>Pixel 2</td><td>android</td><td>Android</td><td>Q</td><td>Europe/Berlin</td><td>Scooter Selected - User</td><td>2019-05-13 11:57:31</td><td>null</td><td>2019-05-13 11:57:36</td><td>2019-05-13 11:57:36</td></tr>\n",
       "</table>\n"
      ],
      "text/plain": [
       "+------------------------------------+-----------------+----------------+-------------------+-----------------+---------------------------+--------------------+-------------------+---------------+------------------+----------------+-----------------------+-----------------------+-----------------+-------------------+-------------------+\n",
       "|                        anonymous_id|context_app_build|context_app_name|context_app_version|context_device_id|context_device_manufacturer|context_device_model|context_device_type|context_os_name|context_os_version|context_timezone|             event_name|original_timestamp_time|properties_rating|      received_time|          sent_time|\n",
       "+------------------------------------+-----------------+----------------+-------------------+-----------------+---------------------------+--------------------+-------------------+---------------+------------------+----------------+-----------------------+-----------------------+-----------------+-------------------+-------------------+\n",
       "|828a755b-6e5f-4b3c-ae28-7cdfac2fa9bf|           300380|            Tier|              3.0.8| 420cc7c499b4b243|                     Google|             Pixel 2|            android|        Android|                 Q|   Europe/Berlin|     Application Opened|    2019-05-13 11:57:05|             null|2019-05-13 11:57:36|2019-05-13 11:57:36|\n",
       "|828a755b-6e5f-4b3c-ae28-7cdfac2fa9bf|           300380|            Tier|              3.0.8| 420cc7c499b4b243|                     Google|             Pixel 2|            android|        Android|                 Q|   Europe/Berlin|    Application Updated|    2019-05-13 11:57:05|             null|2019-05-13 11:57:36|2019-05-13 11:57:36|\n",
       "|828a755b-6e5f-4b3c-ae28-7cdfac2fa9bf|           300380|            Tier|              3.0.8| 420cc7c499b4b243|                     Google|             Pixel 2|            android|        Android|                 Q|   Europe/Berlin|Scooter Selected - User|    2019-05-13 11:57:19|             null|2019-05-13 11:57:36|2019-05-13 11:57:36|\n",
       "|828a755b-6e5f-4b3c-ae28-7cdfac2fa9bf|           300380|            Tier|              3.0.8| 420cc7c499b4b243|                     Google|             Pixel 2|            android|        Android|                 Q|   Europe/Berlin|        Map View Opened|    2019-05-13 11:57:07|             null|2019-05-13 11:57:36|2019-05-13 11:57:36|\n",
       "|828a755b-6e5f-4b3c-ae28-7cdfac2fa9bf|           300380|            Tier|              3.0.8| 420cc7c499b4b243|                     Google|             Pixel 2|            android|        Android|                 Q|   Europe/Berlin|Scooter Selected - User|    2019-05-13 11:57:31|             null|2019-05-13 11:57:36|2019-05-13 11:57:36|\n",
       "+------------------------------------+-----------------+----------------+-------------------+-----------------+---------------------------+--------------------+-------------------+---------------+------------------+----------------+-----------------------+-----------------------+-----------------+-------------------+-------------------+"
      ]
     },
     "execution_count": 26,
     "metadata": {},
     "output_type": "execute_result"
    }
   ],
   "source": [
    "spark.sql('select * from b where context_os_version = \"Q\"')"
   ]
  },
  {
   "cell_type": "code",
   "execution_count": 119,
   "metadata": {},
   "outputs": [
    {
     "data": {
      "text/html": [
       "<table border='1'>\n",
       "<tr><th>_corrupt_record</th><th>anonymous_id</th><th>context_app_build</th><th>context_app_name</th><th>context_app_version</th><th>context_device_id</th><th>context_device_manufacturer</th><th>context_device_model</th><th>context_device_type</th><th>context_os_name</th><th>context_os_version</th><th>context_timezone</th><th>event_name</th><th>original_timestamp_time</th><th>properties_rating</th><th>received_time</th><th>sent_time</th></tr>\n",
       "<tr><td>{&quot;segment_tracks.original_timestamp_time&quot;:&quot;2019-05-13 14:23:48&quot;,&quot;segment...</td><td>null</td><td>null</td><td>null</td><td>null</td><td>null</td><td>null</td><td>null</td><td>null</td><td>null</td><td>null</td><td>null</td><td>null</td><td>null</td><td>null</td><td>null</td><td>null</td></tr>\n",
       "<tr><td>null</td><td>null</td><td>null</td><td>null</td><td>null</td><td>206A4930-3248-46A8-94D7-60DDD435B05D</td><td>Apple</td><td>iPhone10,5</td><td>ios</td><td>iOS</td><td>12.0.1</td><td>Europe/Oslo</td><td>null</td><td>null</td><td>null</td><td>null</td><td>2019-05-13 14:23:38</td></tr>\n",
       "</table>\n"
      ],
      "text/plain": [
       "+---------------------------------------------------------------------------+------------+-----------------+----------------+-------------------+------------------------------------+---------------------------+--------------------+-------------------+---------------+------------------+----------------+----------+-----------------------+-----------------+-------------+-------------------+\n",
       "|                                                            _corrupt_record|anonymous_id|context_app_build|context_app_name|context_app_version|                   context_device_id|context_device_manufacturer|context_device_model|context_device_type|context_os_name|context_os_version|context_timezone|event_name|original_timestamp_time|properties_rating|received_time|          sent_time|\n",
       "+---------------------------------------------------------------------------+------------+-----------------+----------------+-------------------+------------------------------------+---------------------------+--------------------+-------------------+---------------+------------------+----------------+----------+-----------------------+-----------------+-------------+-------------------+\n",
       "|{\"segment_tracks.original_timestamp_time\":\"2019-05-13 14:23:48\",\"segment...|        null|             null|            null|               null|                                null|                       null|                null|               null|           null|              null|            null|      null|                   null|             null|         null|               null|\n",
       "|                                                                       null|        null|             null|            null|               null|206A4930-3248-46A8-94D7-60DDD435B05D|                      Apple|          iPhone10,5|                ios|            iOS|            12.0.1|     Europe/Oslo|      null|                   null|             null|         null|2019-05-13 14:23:38|\n",
       "+---------------------------------------------------------------------------+------------+-----------------+----------------+-------------------+------------------------------------+---------------------------+--------------------+-------------------+---------------+------------------+----------------+----------+-----------------------+-----------------+-------------+-------------------+"
      ]
     },
     "execution_count": 119,
     "metadata": {},
     "output_type": "execute_result"
    }
   ],
   "source": [
    "spark.sql('select * from b where context_app_name is null')"
   ]
  }
 ],
 "metadata": {
  "kernelspec": {
   "display_name": "Python 3 (ipykernel)",
   "language": "python",
   "name": "python3"
  },
  "language_info": {
   "codemirror_mode": {
    "name": "ipython",
    "version": 3
   },
   "file_extension": ".py",
   "mimetype": "text/x-python",
   "name": "python",
   "nbconvert_exporter": "python",
   "pygments_lexer": "ipython3",
   "version": "3.9.6"
  }
 },
 "nbformat": 4,
 "nbformat_minor": 2
}
